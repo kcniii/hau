{
 "cells": [
  {
   "cell_type": "markdown",
   "id": "e35780e7-ca5f-44a9-9b1b-b38a93b3a67b",
   "metadata": {},
   "source": [
    "# Homwork 1"
   ]
  },
  {
   "cell_type": "markdown",
   "id": "b05e2fc2",
   "metadata": {},
   "source": [
    "## 1. Stereo Reconstruction and laser-pattern"
   ]
  },
  {
   "cell_type": "markdown",
   "id": "0439ad69-3784-4f98-bbf6-1c56db25bf3e",
   "metadata": {},
   "source": [
    "1.1 Read the color, infrared1, infrared2 images in the folder Homework/HW-1-data (images with numbers (1262, 1755, 1131, 0000))"
   ]
  },
  {
   "cell_type": "code",
   "execution_count": 1,
   "id": "85b63bbd",
   "metadata": {},
   "outputs": [],
   "source": [
    "import cv2\n",
    "import os"
   ]
  },
  {
   "cell_type": "code",
   "execution_count": 2,
   "id": "6dc7c5db",
   "metadata": {},
   "outputs": [],
   "source": [
    "# Read images from the specified directory\n",
    "def read_images(config):\n",
    "    images = []\n",
    "    for suffix in config['prefixes']:\n",
    "        for num in config['numbers']:\n",
    "            path = f\"{config['root']}/{suffix}{num}.jpg\"\n",
    "            img = cv2.imread(path, cv2.IMREAD_GRAYSCALE if 'infra1_' or 'infra2_' in suffix else cv2.IMREAD_COLOR)\n",
    "            if img is not None:\n",
    "                images.append(img)\n",
    "            else:\n",
    "                print(f\"Warning: {path} could not be loaded.\")\n",
    "    return images"
   ]
  },
  {
   "cell_type": "markdown",
   "id": "f533921a",
   "metadata": {},
   "source": [
    "1.2 Use OpenCV Stereo Block Matching to find the disparity map, then use the equation for depth to calculate the estimated depth map. You could assume that (focal_length=970 mm, baseline=50 mm) "
   ]
  },
  {
   "cell_type": "code",
   "execution_count": 3,
   "id": "7d043621-a60e-4a3a-a8c4-8abd45ce0d4a",
   "metadata": {},
   "outputs": [],
   "source": [
    "def compute_depth_map(infrared1, infrared2, config):\n",
    "    stereo = cv2.StereoBM_create(config['numDisparities'], config['blockSize'])\n",
    "    disparity = stereo.compute(infrared1, infrared2)\n",
    "    depth = (config['focal_length_mm'] * config['baseline_mm']) / (disparity + 1e-6)\n",
    "    return depth"
   ]
  },
  {
   "cell_type": "markdown",
   "id": "e3e86a9b",
   "metadata": {},
   "source": [
    "1.3 Use OpenCV to visualize the reconstructed depth image along with the infrared images using `cv2.imshow`."
   ]
  },
  {
   "cell_type": "code",
   "execution_count": 4,
   "id": "588cc22f",
   "metadata": {},
   "outputs": [],
   "source": [
    "config= {\n",
    "    'root': './HW1-1-data',\n",
    "    'prefixes': ['infra1_', 'infra2_'],\n",
    "    'numbers': ['1262', '1755', '1131', '0000'],\n",
    "    'numDisparities': 0,\n",
    "    'blockSize': 21,\n",
    "    'focal_length_mm': 970,\n",
    "    'baseline_mm': 50,\n",
    "    'save_path': './outputs'\n",
    "}"
   ]
  },
  {
   "cell_type": "code",
   "execution_count": 6,
   "id": "982ac993",
   "metadata": {},
   "outputs": [
    {
     "name": "stdout",
     "output_type": "stream",
     "text": [
      "Key pressed. Exiting...\n"
     ]
    }
   ],
   "source": [
    "# Create save folder if it doesn't exist\n",
    "save_folder = config['save_path']\n",
    "if not os.path.exists(save_folder):\n",
    "    os.makedirs(save_folder)\n",
    "    print(f\"Folder '{save_folder}' created.\")\n",
    "\n",
    "# Compute depth maps\n",
    "images = read_images(config)\n",
    "depth_map = [compute_depth_map(images[i],images[i+4],config) for i in range(len(images)//2)]\n",
    "\n",
    "# Display depth maps\n",
    "for img,number in zip(depth_map,config['numbers']):\n",
    "    # file_name = os.path.join(save_folder, f\"depth_map_{number}.jpg\")\n",
    "    # cv2.imwrite(file_name, img)\n",
    "    window_name = f\"Depth Map {number}\"\n",
    "    cv2.imshow(window_name, img)\n",
    "\n",
    "while True:\n",
    "    k = cv2.waitKey(0)  # 0 makes waitKey wait indefinitely for a key press\n",
    "    if k != -1:  # If a key was pressed\n",
    "        print(\"Key pressed. Exiting...\")\n",
    "        break\n",
    "cv2.destroyAllWindows()"
   ]
  },
  {
   "cell_type": "markdown",
   "id": "5deafb9a",
   "metadata": {},
   "source": [
    "1.4 What is the difference between the depth quality with respect to \n",
    "1. planes with texture (Checkerboard) vs. planes without texture (the PC case)\n",
    "2. with laser pattern (1262,1755) vs no laser-pattern (0000,1131)"
   ]
  },
  {
   "cell_type": "markdown",
   "id": "49bd0360",
   "metadata": {},
   "source": [
    "plt."
   ]
  }
 ],
 "metadata": {
  "kernelspec": {
   "display_name": ".venv",
   "language": "python",
   "name": "python3"
  },
  "language_info": {
   "codemirror_mode": {
    "name": "ipython",
    "version": 3
   },
   "file_extension": ".py",
   "mimetype": "text/x-python",
   "name": "python",
   "nbconvert_exporter": "python",
   "pygments_lexer": "ipython3",
   "version": "3.12.3"
  }
 },
 "nbformat": 4,
 "nbformat_minor": 5
}
